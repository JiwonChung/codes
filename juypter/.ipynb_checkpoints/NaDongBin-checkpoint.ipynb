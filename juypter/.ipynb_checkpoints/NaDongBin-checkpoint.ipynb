{
 "cells": [
  {
   "cell_type": "code",
   "execution_count": 3,
   "id": "useful-bidder",
   "metadata": {},
   "outputs": [
    {
     "name": "stdout",
     "output_type": "stream",
     "text": [
      "Hello jupyter\n"
     ]
    }
   ],
   "source": [
    "print(\"Hello jupyter\")"
   ]
  },
  {
   "cell_type": "code",
   "execution_count": 5,
   "id": "administrative-portsmouth",
   "metadata": {},
   "outputs": [],
   "source": [
    "import tensorflow._api.v2.compat.v1 as tf\n",
    "tf.disable_v2_behavior()"
   ]
  },
  {
   "cell_type": "code",
   "execution_count": 6,
   "id": "mental-uruguay",
   "metadata": {},
   "outputs": [
    {
     "name": "stdout",
     "output_type": "stream",
     "text": [
      "<tf.Variable 'Variable_3:0' shape=(1,) dtype=float32_ref>\n",
      "0 4605157000.0 [10337.61] [2155.579]\n",
      "500 8689819.0 [25534.914] [1963.099]\n",
      "1000 8633870.0 [25627.127] [1506.4637]\n",
      "1500 8632679.0 [25640.564] [1439.927]\n",
      "2000 8632647.0 [25642.523] [1430.225]\n",
      "2500 8632651.0 [25642.805] [1428.8251]\n",
      "3000 8632657.0 [25642.844] [1428.6345]\n",
      "3500 8632657.0 [25642.848] [1428.6133]\n",
      "4000 8632657.0 [25642.848] [1428.6133]\n",
      "4500 8632657.0 [25642.848] [1428.6133]\n",
      "5000 8632657.0 [25642.848] [1428.6133]\n",
      "weight :  [25642.848]\n",
      "basis :  [1428.6133]\n",
      "[206571.39]\n"
     ]
    }
   ],
   "source": [
    "xData = [1, 2, 3, 4, 5, 6, 7]\n",
    "yData = [25000, 55000, 75000, 110000, 128000, 155000, 180000]\n",
    "\n",
    "\n",
    "# weight basis\n",
    "W = tf.Variable(tf.random_uniform([1], -100, 100))\n",
    "b = tf.Variable(tf.random_uniform([1], -100, 100))\n",
    "\n",
    "print(W)\n",
    "X = tf.placeholder(tf.float32)\n",
    "Y = tf.placeholder(tf.float32)\n",
    "\n",
    "H = W * X + b\n",
    "\n",
    "# cost function\n",
    "cost = tf.reduce_mean(tf.square(H - Y))\n",
    "\n",
    "# how much you wanna jump at once\n",
    "a = tf.Variable(0.01)\n",
    "optimizer = tf.train.GradientDescentOptimizer(a)\n",
    "\n",
    "# optimize by minimize cost\n",
    "train = optimizer.minimize(cost)\n",
    "\n",
    "init = tf.global_variables_initializer()\n",
    "\n",
    "sess = tf.Session()\n",
    "sess.run(init)\n",
    "\n",
    "\n",
    "for i in range(5001):\n",
    "    sess.run(train, feed_dict={X: xData, Y: yData})\n",
    "    if i % 500 == 0:\n",
    "        print(i, sess.run(cost, feed_dict={\n",
    "              X: xData, Y: yData}), sess.run(W), sess.run(b))\n",
    "\n",
    "print(\"weight : \", sess.run(W))\n",
    "print(\"basis : \", sess.run(b))\n",
    "print(sess.run(H, feed_dict={X: [8]}))"
   ]
  },
  {
   "cell_type": "code",
   "execution_count": null,
   "id": "alone-mexico",
   "metadata": {},
   "outputs": [],
   "source": []
  }
 ],
 "metadata": {
  "kernelspec": {
   "display_name": "Python 3",
   "language": "python",
   "name": "python3"
  },
  "language_info": {
   "codemirror_mode": {
    "name": "ipython",
    "version": 3
   },
   "file_extension": ".py",
   "mimetype": "text/x-python",
   "name": "python",
   "nbconvert_exporter": "python",
   "pygments_lexer": "ipython3",
   "version": "3.8.5"
  }
 },
 "nbformat": 4,
 "nbformat_minor": 5
}
