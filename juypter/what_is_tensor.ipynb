{
 "cells": [
  {
   "cell_type": "code",
   "execution_count": 1,
   "id": "great-robert",
   "metadata": {},
   "outputs": [
    {
     "name": "stdout",
     "output_type": "stream",
     "text": [
      "WARNING:tensorflow:From /home/jwchung/.local/lib/python3.8/site-packages/tensorflow/python/compat/v2_compat.py:96: disable_resource_variables (from tensorflow.python.ops.variable_scope) is deprecated and will be removed in a future version.\n",
      "Instructions for updating:\n",
      "non-resource variables are not supported in the long term\n"
     ]
    }
   ],
   "source": [
    "import tensorflow._api.v2.compat.v1 as tensorflow\n",
    "tensorflow.disable_v2_behavior()"
   ]
  },
  {
   "cell_type": "code",
   "execution_count": 2,
   "id": "effective-stranger",
   "metadata": {},
   "outputs": [],
   "source": [
    "node1 = tensorflow.constant(3.0)\n",
    "node2 = tensorflow.constant(4.0) # also tensorflow.float32 implicitly\n",
    "node3 = tensorflow.add(node1, node2) # node3 = node1 + node2"
   ]
  },
  {
   "cell_type": "code",
   "execution_count": 3,
   "id": "acceptable-taiwan",
   "metadata": {},
   "outputs": [
    {
     "name": "stdout",
     "output_type": "stream",
     "text": [
      "node1 :  Tensor(\"Const:0\", shape=(), dtype=float32)  \n",
      "node2 :  Tensor(\"Const_1:0\", shape=(), dtype=float32)\n",
      "node3 :  Tensor(\"Add:0\", shape=(), dtype=float32)\n"
     ]
    }
   ],
   "source": [
    "print(\"node1 : \", node1, \" \\nnode2 : \", node2)\n",
    "print(\"node3 : \", node3)"
   ]
  },
  {
   "cell_type": "code",
   "execution_count": 4,
   "id": "comparative-generator",
   "metadata": {},
   "outputs": [
    {
     "name": "stdout",
     "output_type": "stream",
     "text": [
      "session.run(node1, node2) :  [3.0, 4.0]\n",
      "session.run(node3) :  7.0\n"
     ]
    }
   ],
   "source": [
    "session = tensorflow.Session()\n",
    "print(\"session.run(node1, node2) : \", session.run([node1, node2]))\n",
    "print(\"session.run(node3) : \", session.run(node3))"
   ]
  },
  {
   "cell_type": "code",
   "execution_count": 5,
   "id": "parental-marking",
   "metadata": {},
   "outputs": [],
   "source": [
    "a = tensorflow.placeholder(tensorflow.float32)\n",
    "b = tensorflow.placeholder(tensorflow.float32)\n",
    "adder_node = a + b # + provides a shortcut for tensorflow.add(a, b)"
   ]
  },
  {
   "cell_type": "code",
   "execution_count": null,
   "id": "acute-uniform",
   "metadata": {},
   "outputs": [],
   "source": [
    "print(session.run(adder_node, feed_dict={}))"
   ]
  }
 ],
 "metadata": {
  "kernelspec": {
   "display_name": "Python 3",
   "language": "python",
   "name": "python3"
  },
  "language_info": {
   "codemirror_mode": {
    "name": "ipython",
    "version": 3
   },
   "file_extension": ".py",
   "mimetype": "text/x-python",
   "name": "python",
   "nbconvert_exporter": "python",
   "pygments_lexer": "ipython3",
   "version": "3.8.5"
  }
 },
 "nbformat": 4,
 "nbformat_minor": 5
}
